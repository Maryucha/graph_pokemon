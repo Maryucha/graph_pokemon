{
 "cells": [
  {
   "cell_type": "markdown",
   "metadata": {},
   "source": [
    "# Pipeline para ETL de Pokemons"
   ]
  },
  {
   "cell_type": "markdown",
   "metadata": {},
   "source": [
    "### Configuaração do notebook."
   ]
  },
  {
   "cell_type": "code",
   "execution_count": 17,
   "metadata": {},
   "outputs": [],
   "source": [
    "import requests\n",
    "from neo4j import GraphDatabase\n",
    "import pandas as pd\n",
    "\n",
    "NEO4J_URI = \"bolt://localhost:7687\"\n",
    "NEO4J_USER = \"neo4j\"\n",
    "NEO4J_PASSWORD = \"mary123.M\""
   ]
  },
  {
   "cell_type": "markdown",
   "metadata": {},
   "source": [
    "### Configuração de conexão com o banco"
   ]
  },
  {
   "cell_type": "code",
   "execution_count": 18,
   "metadata": {},
   "outputs": [
    {
     "name": "stdout",
     "output_type": "stream",
     "text": [
      "Conexão estabelicida com sucesso!\n"
     ]
    }
   ],
   "source": [
    "class Neo4jConnection:\n",
    "    \"\"\"\n",
    "    Classe de conexão com o banco do Neo4j.\n",
    "    \n",
    "    Args:\n",
    "        uri str: DNS bolt do banco.\n",
    "        user str: Nome do user admin.\n",
    "        password str: Senha do usuario. \n",
    "    \"\"\"\n",
    "    def __init__(self, uri,user,password) -> None:\n",
    "        self.driver = GraphDatabase.driver(uri, auth=(user,password))\n",
    "        \n",
    "    def close(self):\n",
    "        self.driver.close()\n",
    "        \n",
    "    def execute_query(self, query, parameters=None):\n",
    "        with self.driver.session() as session:\n",
    "            return session.run(query, parameters)\n",
    "    \n",
    "connection = Neo4jConnection(NEO4J_URI,NEO4J_USER,NEO4J_PASSWORD)\n",
    "print(\"Conexão estabelicida com sucesso!\")"
   ]
  },
  {
   "cell_type": "markdown",
   "metadata": {},
   "source": [
    "### Extração dos 151 pokemons da primeira geração via requests."
   ]
  },
  {
   "cell_type": "code",
   "execution_count": 19,
   "metadata": {},
   "outputs": [
    {
     "data": {
      "text/html": [
       "<div>\n",
       "<style scoped>\n",
       "    .dataframe tbody tr th:only-of-type {\n",
       "        vertical-align: middle;\n",
       "    }\n",
       "\n",
       "    .dataframe tbody tr th {\n",
       "        vertical-align: top;\n",
       "    }\n",
       "\n",
       "    .dataframe thead th {\n",
       "        text-align: right;\n",
       "    }\n",
       "</style>\n",
       "<table border=\"1\" class=\"dataframe\">\n",
       "  <thead>\n",
       "    <tr style=\"text-align: right;\">\n",
       "      <th></th>\n",
       "      <th>name</th>\n",
       "      <th>url</th>\n",
       "    </tr>\n",
       "  </thead>\n",
       "  <tbody>\n",
       "    <tr>\n",
       "      <th>0</th>\n",
       "      <td>bulbasaur</td>\n",
       "      <td>https://pokeapi.co/api/v2/pokemon/1/</td>\n",
       "    </tr>\n",
       "    <tr>\n",
       "      <th>1</th>\n",
       "      <td>ivysaur</td>\n",
       "      <td>https://pokeapi.co/api/v2/pokemon/2/</td>\n",
       "    </tr>\n",
       "    <tr>\n",
       "      <th>2</th>\n",
       "      <td>venusaur</td>\n",
       "      <td>https://pokeapi.co/api/v2/pokemon/3/</td>\n",
       "    </tr>\n",
       "    <tr>\n",
       "      <th>3</th>\n",
       "      <td>charmander</td>\n",
       "      <td>https://pokeapi.co/api/v2/pokemon/4/</td>\n",
       "    </tr>\n",
       "    <tr>\n",
       "      <th>4</th>\n",
       "      <td>charmeleon</td>\n",
       "      <td>https://pokeapi.co/api/v2/pokemon/5/</td>\n",
       "    </tr>\n",
       "    <tr>\n",
       "      <th>...</th>\n",
       "      <td>...</td>\n",
       "      <td>...</td>\n",
       "    </tr>\n",
       "    <tr>\n",
       "      <th>146</th>\n",
       "      <td>dratini</td>\n",
       "      <td>https://pokeapi.co/api/v2/pokemon/147/</td>\n",
       "    </tr>\n",
       "    <tr>\n",
       "      <th>147</th>\n",
       "      <td>dragonair</td>\n",
       "      <td>https://pokeapi.co/api/v2/pokemon/148/</td>\n",
       "    </tr>\n",
       "    <tr>\n",
       "      <th>148</th>\n",
       "      <td>dragonite</td>\n",
       "      <td>https://pokeapi.co/api/v2/pokemon/149/</td>\n",
       "    </tr>\n",
       "    <tr>\n",
       "      <th>149</th>\n",
       "      <td>mewtwo</td>\n",
       "      <td>https://pokeapi.co/api/v2/pokemon/150/</td>\n",
       "    </tr>\n",
       "    <tr>\n",
       "      <th>150</th>\n",
       "      <td>mew</td>\n",
       "      <td>https://pokeapi.co/api/v2/pokemon/151/</td>\n",
       "    </tr>\n",
       "  </tbody>\n",
       "</table>\n",
       "<p>151 rows × 2 columns</p>\n",
       "</div>"
      ],
      "text/plain": [
       "           name                                     url\n",
       "0     bulbasaur    https://pokeapi.co/api/v2/pokemon/1/\n",
       "1       ivysaur    https://pokeapi.co/api/v2/pokemon/2/\n",
       "2      venusaur    https://pokeapi.co/api/v2/pokemon/3/\n",
       "3    charmander    https://pokeapi.co/api/v2/pokemon/4/\n",
       "4    charmeleon    https://pokeapi.co/api/v2/pokemon/5/\n",
       "..          ...                                     ...\n",
       "146     dratini  https://pokeapi.co/api/v2/pokemon/147/\n",
       "147   dragonair  https://pokeapi.co/api/v2/pokemon/148/\n",
       "148   dragonite  https://pokeapi.co/api/v2/pokemon/149/\n",
       "149      mewtwo  https://pokeapi.co/api/v2/pokemon/150/\n",
       "150         mew  https://pokeapi.co/api/v2/pokemon/151/\n",
       "\n",
       "[151 rows x 2 columns]"
      ]
     },
     "execution_count": 19,
     "metadata": {},
     "output_type": "execute_result"
    }
   ],
   "source": [
    "POKE_API_BASE_URL = \"https://pokeapi.co/api/v2\"\n",
    "\n",
    "def fetch_pokemon_data(limit=151):\n",
    "    \"\"\"\n",
    "    Função que executa a request na api.\n",
    "    \n",
    "    Args:\n",
    "        limit int: Número dos pokemons que você quer.\n",
    "    Returns:\n",
    "        pokemons json: Retorna uma lista com os pokemons.\n",
    "    \"\"\"\n",
    "    response = requests.get(f\"{POKE_API_BASE_URL}/pokemon?limit={limit}\")\n",
    "    response.raise_for_status()\n",
    "    return response.json()\n",
    "\n",
    "pokemon_data = fetch_pokemon_data()\n",
    "pokemon_list = pokemon_data['results']\n",
    "\n",
    "pd.DataFrame(pokemon_list)"
   ]
  },
  {
   "cell_type": "markdown",
   "metadata": {},
   "source": [
    "### Tranformação dos Dados"
   ]
  },
  {
   "cell_type": "code",
   "execution_count": 20,
   "metadata": {},
   "outputs": [
    {
     "data": {
      "text/plain": [
       "dict_keys(['abilities', 'base_experience', 'cries', 'forms', 'game_indices', 'height', 'held_items', 'id', 'is_default', 'location_area_encounters', 'moves', 'name', 'order', 'past_abilities', 'past_types', 'species', 'sprites', 'stats', 'types', 'weight'])"
      ]
     },
     "execution_count": 20,
     "metadata": {},
     "output_type": "execute_result"
    }
   ],
   "source": [
    "def fetch_pokemons_details(url):\n",
    "    \"\"\"\n",
    "    Obtem os detalhes de cada pokemon com base na sua url.\n",
    "    \n",
    "    Args:\n",
    "        url str: Url exclusiva do pokemon.\n",
    "    \"\"\"\n",
    "    response = requests.get(url)\n",
    "    response.raise_for_status()\n",
    "    return response.json()\n",
    "\n",
    "details = fetch_pokemons_details(pokemon_list[0]['url'])\n",
    "details.keys()"
   ]
  },
  {
   "cell_type": "markdown",
   "metadata": {},
   "source": [
    "### Carregamento do dados"
   ]
  },
  {
   "cell_type": "code",
   "execution_count": 21,
   "metadata": {},
   "outputs": [
    {
     "data": {
      "text/plain": [
       "(            name     type\n",
       " 0      bulbasaur     Poke\n",
       " 1          grass     Type\n",
       " 2         poison     Type\n",
       " 3       overgrow  Ability\n",
       " 4    chlorophyll  Ability\n",
       " ..           ...      ...\n",
       " 277    dragonair     Poke\n",
       " 278    dragonite     Poke\n",
       " 279   multiscale  Ability\n",
       " 280       mewtwo     Poke\n",
       " 281          mew     Poke\n",
       " \n",
       " [282 rows x 2 columns],\n",
       "           from           to            type\n",
       " 0    bulbasaur        grass      PERTENCE_A\n",
       " 1    bulbasaur       poison      PERTENCE_A\n",
       " 2    bulbasaur     overgrow  TEM_HABILIDADE\n",
       " 3    bulbasaur  chlorophyll  TEM_HABILIDADE\n",
       " 4      ivysaur        grass      PERTENCE_A\n",
       " ..         ...          ...             ...\n",
       " 608     mewtwo      psychic      PERTENCE_A\n",
       " 609     mewtwo     pressure  TEM_HABILIDADE\n",
       " 610     mewtwo      unnerve  TEM_HABILIDADE\n",
       " 611        mew      psychic      PERTENCE_A\n",
       " 612        mew  synchronize  TEM_HABILIDADE\n",
       " \n",
       " [613 rows x 3 columns])"
      ]
     },
     "execution_count": 21,
     "metadata": {},
     "output_type": "execute_result"
    }
   ],
   "source": [
    "# Transformação dos dados com validação\n",
    "nodes = []\n",
    "relationships = []\n",
    "\n",
    "for pokemon in pokemon_list:\n",
    "    details = fetch_pokemons_details(pokemon['url'])\n",
    "    pokemon_name = details['name']\n",
    "    types = [t['type']['name'] for t in details['types']]\n",
    "    abilities = [a['ability']['name'] for a in details['abilities']]\n",
    "\n",
    "    # Adicionar nó do Pokémon\n",
    "    nodes.append({'name': pokemon_name, 'type': 'Poke'})\n",
    "\n",
    "    # Adicionar nós e relacionamentos para tipos\n",
    "    for poke_type in types:\n",
    "        nodes.append({'name': poke_type, 'type': 'Type'})\n",
    "        relationships.append({'from': pokemon_name, 'to': poke_type, 'type': 'PERTENCE_A'})\n",
    "\n",
    "    # Adicionar nós e relacionamentos para habilidades\n",
    "    for ability in abilities:\n",
    "        nodes.append({'name': ability, 'type': 'Ability'})\n",
    "        relationships.append({'from': pokemon_name, 'to': ability, 'type': 'TEM_HABILIDADE'})\n",
    "\n",
    "# Remover duplicados antes de carregar\n",
    "unique_nodes = {f\"{n['name']}_{n['type']}\": n for n in nodes}.values()\n",
    "unique_relationships = {\n",
    "    f\"{r['from']}_{r['to']}_{r['type']}\": r for r in relationships\n",
    "}.values()\n",
    "\n",
    "# Mostrar os dados transformados\n",
    "pd.DataFrame(unique_nodes), pd.DataFrame(unique_relationships)"
   ]
  },
  {
   "cell_type": "code",
   "execution_count": 22,
   "metadata": {},
   "outputs": [
    {
     "name": "stdout",
     "output_type": "stream",
     "text": [
      "Dados carregados com sucesso!\n"
     ]
    }
   ],
   "source": [
    "def load_data_to_neo4j(connection, nodes, relationships):\n",
    "    # Carregar nós\n",
    "    for node in nodes:\n",
    "        query = f\"\"\"\n",
    "        MERGE (n:{node['type']} {{name: $name}})\n",
    "        \"\"\"\n",
    "        connection.execute_query(query, {\"name\": node[\"name\"]})\n",
    "\n",
    "    # Carregar relacionamentos\n",
    "    for rel in relationships:\n",
    "        query = f\"\"\"\n",
    "        MATCH (a {{name: $from}}), (b {{name: $to}})\n",
    "        MERGE (a)-[:{rel['type']}]->(b)\n",
    "        \"\"\"\n",
    "        connection.execute_query(query, {\"from\": rel[\"from\"], \"to\": rel[\"to\"]})\n",
    "\n",
    "# Executar carregamento no banco\n",
    "load_data_to_neo4j(connection, unique_nodes, unique_relationships)\n",
    "print(\"Dados carregados com sucesso!\")\n"
   ]
  }
 ],
 "metadata": {
  "kernelspec": {
   "display_name": ".venv",
   "language": "python",
   "name": "python3"
  },
  "language_info": {
   "codemirror_mode": {
    "name": "ipython",
    "version": 3
   },
   "file_extension": ".py",
   "mimetype": "text/x-python",
   "name": "python",
   "nbconvert_exporter": "python",
   "pygments_lexer": "ipython3",
   "version": "3.12.3"
  }
 },
 "nbformat": 4,
 "nbformat_minor": 2
}
